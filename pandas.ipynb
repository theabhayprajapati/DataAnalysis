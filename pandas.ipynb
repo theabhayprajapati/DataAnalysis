{
 "cells": [
  {
   "cell_type": "code",
   "execution_count": 56,
   "metadata": {},
   "outputs": [],
   "source": [
    "# Pandas Series...\n",
    "import pandas as pd\n",
    "#  Numpy is requried to using any scient cal.\n",
    "#  fundaments of DA\n",
    "import numpy as np"
   ]
  },
  {
   "cell_type": "code",
   "execution_count": 57,
   "metadata": {},
   "outputs": [],
   "source": [
    "#   Getting Data from Databases, Excel files, CSV files. "
   ]
  },
  {
   "cell_type": "code",
   "execution_count": 58,
   "metadata": {},
   "outputs": [],
   "source": [
    "#   combining data, visulaiting the data with pandas, creating reports, ML everything from pandas...\n",
    "#   again most importat"
   ]
  },
  {
   "cell_type": "code",
   "execution_count": 59,
   "metadata": {},
   "outputs": [],
   "source": [
    "#  pandas are two data frames Series and ~Excel tables.."
   ]
  },
  {
   "cell_type": "code",
   "execution_count": 60,
   "metadata": {},
   "outputs": [
    {
     "name": "stdout",
     "output_type": "stream",
     "text": [
      "India        35.34930\n",
      "Autraila     23.45343\n",
      "London       53.23230\n",
      "Paris       232.23200\n",
      "NY          234.23200\n",
      "dtype: float64\n"
     ]
    }
   ],
   "source": [
    "g7_pop = pd.Series([35.3493,23.45343,53.2323,232.232,234.232], index = ['India', 'Autraila', 'London', 'Paris', 'NY'])\n",
    "print(g7_pop)\n",
    "#  default pandas are having Range index"
   ]
  },
  {
   "cell_type": "code",
   "execution_count": 61,
   "metadata": {},
   "outputs": [],
   "source": [
    "g7_pop.name = \"Gobal Population\""
   ]
  },
  {
   "cell_type": "code",
   "execution_count": 62,
   "metadata": {},
   "outputs": [
    {
     "data": {
      "text/plain": [
       "dtype('float64')"
      ]
     },
     "execution_count": 62,
     "metadata": {},
     "output_type": "execute_result"
    }
   ],
   "source": [
    "\n",
    "g7_pop.dtype"
   ]
  },
  {
   "cell_type": "code",
   "execution_count": 63,
   "metadata": {},
   "outputs": [
    {
     "data": {
      "text/plain": [
       "234.232"
      ]
     },
     "execution_count": 63,
     "metadata": {},
     "output_type": "execute_result"
    }
   ],
   "source": [
    "# with index now we can consult with the with the name rather with number...\n",
    "g7_pop['India']\n",
    "g7_pop['NY']"
   ]
  },
  {
   "cell_type": "code",
   "execution_count": 68,
   "metadata": {},
   "outputs": [
    {
     "data": {
      "text/plain": [
       "India        35.34930\n",
       "Autraila     23.45343\n",
       "London       53.23230\n",
       "Paris       232.23200\n",
       "NY          234.23200\n",
       "Name: Gobal Population, dtype: float64"
      ]
     },
     "execution_count": 68,
     "metadata": {},
     "output_type": "execute_result"
    }
   ],
   "source": [
    "# Slicing with pandas\n",
    "g7_pop['India': 'NY']\n",
    "#  here unlike np the late on is included\n",
    "#   here we has said from india to NY"
   ]
  },
  {
   "cell_type": "code",
   "execution_count": 64,
   "metadata": {},
   "outputs": [
    {
     "data": {
      "text/plain": [
       "India        35.34930\n",
       "Autraila     23.45343\n",
       "London       53.23230\n",
       "Paris       232.23200\n",
       "NY          234.23200\n",
       "Name: Gobal Population, dtype: float64"
      ]
     },
     "execution_count": 64,
     "metadata": {},
     "output_type": "execute_result"
    }
   ],
   "source": [
    "g7_pop"
   ]
  },
  {
   "cell_type": "code",
   "execution_count": 65,
   "metadata": {},
   "outputs": [
    {
     "data": {
      "text/plain": [
       "array([ 35.3493 ,  23.45343,  53.2323 , 232.232  , 234.232  ])"
      ]
     },
     "execution_count": 65,
     "metadata": {},
     "output_type": "execute_result"
    }
   ],
   "source": [
    "g7_pop.values"
   ]
  },
  {
   "cell_type": "code",
   "execution_count": 66,
   "metadata": {},
   "outputs": [
    {
     "data": {
      "text/plain": [
       "23.45343"
      ]
     },
     "execution_count": 66,
     "metadata": {},
     "output_type": "execute_result"
    }
   ],
   "source": [
    "g7_pop[1]\n",
    "#  give me firt element"
   ]
  },
  {
   "cell_type": "code",
   "execution_count": 70,
   "metadata": {},
   "outputs": [
    {
     "data": {
      "text/plain": [
       "London     53.2323\n",
       "Paris     232.2320\n",
       "NY        234.2320\n",
       "Name: Gobal Population, dtype: float64"
      ]
     },
     "execution_count": 70,
     "metadata": {},
     "output_type": "execute_result"
    }
   ],
   "source": [
    "g7_pop[g7_pop>45]\n",
    "#   here initially the inner box is solved with got the values of true and false, but later the values converted into number with help of brackets "
   ]
  },
  {
   "cell_type": "code",
   "execution_count": null,
   "metadata": {},
   "outputs": [],
   "source": []
  }
 ],
 "metadata": {
  "interpreter": {
   "hash": "b89b5cfaba6639976dc87ff2fec6d58faec662063367e2c229c520fe71072417"
  },
  "kernelspec": {
   "display_name": "Python 3.10.0 64-bit",
   "language": "python",
   "name": "python3"
  },
  "language_info": {
   "codemirror_mode": {
    "name": "ipython",
    "version": 3
   },
   "file_extension": ".py",
   "mimetype": "text/x-python",
   "name": "python",
   "nbconvert_exporter": "python",
   "pygments_lexer": "ipython3",
   "version": "3.10.0"
  },
  "orig_nbformat": 4
 },
 "nbformat": 4,
 "nbformat_minor": 2
}
